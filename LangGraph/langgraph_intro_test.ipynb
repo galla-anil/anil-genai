{
 "cells": [
  {
   "cell_type": "code",
   "execution_count": 1,
   "id": "f843fad0",
   "metadata": {},
   "outputs": [
    {
     "name": "stdout",
     "output_type": "stream",
     "text": [
      "anil\n"
     ]
    }
   ],
   "source": [
    "print(\"anil\")"
   ]
  },
  {
   "cell_type": "code",
   "execution_count": 4,
   "id": "821de872",
   "metadata": {},
   "outputs": [],
   "source": [
    "import logging\n",
    "import warnings"
   ]
  },
  {
   "cell_type": "code",
   "execution_count": 2,
   "id": "a7383ba6",
   "metadata": {},
   "outputs": [],
   "source": [
    "def function1(input1:str) -> str:\n",
    "    return input1 + \" from first function\""
   ]
  },
  {
   "cell_type": "code",
   "execution_count": 3,
   "id": "50737350",
   "metadata": {},
   "outputs": [],
   "source": [
    "def function2(input2:str) -> str:\n",
    "    return input2 + \" Galla from second fuction\""
   ]
  },
  {
   "cell_type": "code",
   "execution_count": 4,
   "id": "35a09b68",
   "metadata": {},
   "outputs": [],
   "source": [
    "def function3(input3:str):\n",
    "    pass"
   ]
  },
  {
   "cell_type": "code",
   "execution_count": 5,
   "id": "d87386b9",
   "metadata": {},
   "outputs": [],
   "source": [
    "from langgraph.graph import Graph"
   ]
  },
  {
   "cell_type": "code",
   "execution_count": 6,
   "id": "90aee287",
   "metadata": {},
   "outputs": [],
   "source": [
    "workflow=Graph()"
   ]
  },
  {
   "cell_type": "code",
   "execution_count": 7,
   "id": "5dc5c7b8",
   "metadata": {},
   "outputs": [
    {
     "data": {
      "text/plain": [
       "<langgraph.graph.graph.Graph at 0x20c4003d2e0>"
      ]
     },
     "execution_count": 7,
     "metadata": {},
     "output_type": "execute_result"
    }
   ],
   "source": [
    "workflow.add_node(\"funct1\",function1)"
   ]
  },
  {
   "cell_type": "code",
   "execution_count": 8,
   "id": "0f057b03",
   "metadata": {},
   "outputs": [
    {
     "data": {
      "text/plain": [
       "<langgraph.graph.graph.Graph at 0x20c4003d2e0>"
      ]
     },
     "execution_count": 8,
     "metadata": {},
     "output_type": "execute_result"
    }
   ],
   "source": [
    "workflow.add_node(\"funct2\",function2)"
   ]
  },
  {
   "cell_type": "code",
   "execution_count": 9,
   "id": "afcda973",
   "metadata": {},
   "outputs": [
    {
     "data": {
      "text/plain": [
       "<langgraph.graph.graph.Graph at 0x20c4003d2e0>"
      ]
     },
     "execution_count": 9,
     "metadata": {},
     "output_type": "execute_result"
    }
   ],
   "source": [
    "workflow.add_edge(\"funct1\",\"funct2\")"
   ]
  },
  {
   "cell_type": "code",
   "execution_count": 10,
   "id": "909bf6e8",
   "metadata": {},
   "outputs": [
    {
     "data": {
      "text/plain": [
       "<langgraph.graph.graph.Graph at 0x20c4003d2e0>"
      ]
     },
     "execution_count": 10,
     "metadata": {},
     "output_type": "execute_result"
    }
   ],
   "source": [
    "workflow.set_entry_point(\"funct1\")"
   ]
  },
  {
   "cell_type": "code",
   "execution_count": 11,
   "id": "5b0811f3",
   "metadata": {},
   "outputs": [
    {
     "data": {
      "text/plain": [
       "<langgraph.graph.graph.Graph at 0x20c4003d2e0>"
      ]
     },
     "execution_count": 11,
     "metadata": {},
     "output_type": "execute_result"
    }
   ],
   "source": [
    "workflow.set_finish_point(\"funct2\")"
   ]
  },
  {
   "cell_type": "code",
   "execution_count": 12,
   "id": "88592e88",
   "metadata": {},
   "outputs": [],
   "source": [
    "app=workflow.compile()"
   ]
  },
  {
   "cell_type": "code",
   "execution_count": 13,
   "id": "59896d21",
   "metadata": {},
   "outputs": [
    {
     "data": {
      "image/png": "[encoded data removed]",
      "text/plain": [
       "<IPython.core.display.Image object>"
      ]
     },
     "metadata": {},
     "output_type": "display_data"
    }
   ],
   "source": [
    "from IPython.display import Image, display\n",
    "display(Image(app.get_graph().draw_mermaid_png()))"
   ]
  },
  {
   "cell_type": "code",
   "execution_count": 14,
   "id": "b0ef5d3e",
   "metadata": {},
   "outputs": [
    {
     "data": {
      "text/plain": [
       "'This is Anil from first function Galla from second fuction'"
      ]
     },
     "execution_count": 14,
     "metadata": {},
     "output_type": "execute_result"
    }
   ],
   "source": [
    "app.invoke(\"This is Anil\")"
   ]
  },
  {
   "cell_type": "code",
   "execution_count": null,
   "id": "1c23f826",
   "metadata": {},
   "outputs": [],
   "source": [
    "for output in app.stream(\"hi this is rohit\"):\n",
    "    for key,value in output.items():\n",
    "        print(f\"here is output from {key}\")\n",
    "        print(\"_______\")\n",
    "        print(value)\n",
    "        print(\"\\n\")"
   ]
  },
  {
   "cell_type": "code",
   "execution_count": null,
   "id": "5b408fcf",
   "metadata": {},
   "outputs": [
    {
     "name": "stdout",
     "output_type": "stream",
     "text": [
      "dict_items([('funct1', 'hi this is rohit from first function')])\n",
      "dict_items([('funct2', 'hi this is rohit from first function Galla from second fuction')])\n"
     ]
    }
   ],
   "source": [
    "for output in app.stream(\"hi this is rohit\"):\n",
    "    for key,value in output.items():\n",
    "        print(f\"\")\n",
    "\n",
    "    "
   ]
  },
  {
   "cell_type": "code",
   "execution_count": 6,
   "id": "e429cb89",
   "metadata": {},
   "outputs": [],
   "source": [
    "def my_decorator(func):\n",
    "    def wrapper():\n",
    "        print(\"Before function call\")\n",
    "        func()\n",
    "        print(\"After function call\")\n",
    "    return wrapper\n",
    "\n"
   ]
  },
  {
   "cell_type": "code",
   "execution_count": 8,
   "id": "38a4c20d",
   "metadata": {},
   "outputs": [],
   "source": [
    "from langchain_google_genai import ChatGoogleGenerativeAI\n",
    "model=ChatGoogleGenerativeAI(model='gemini-1.5-flash')"
   ]
  },
  {
   "cell_type": "code",
   "execution_count": null,
   "id": "49edc438",
   "metadata": {},
   "outputs": [
    {
     "data": {
      "text/plain": [
       "AIMessage(content='A generator in programming is a special type of function that produces a sequence of values one at a time, instead of computing them all at once and returning them as a list or other collection.  It uses the `yield` keyword instead of `return`.  This makes generators incredibly memory-efficient, especially when dealing with large datasets or infinite sequences.\\n\\nHere\\'s a breakdown of key characteristics:\\n\\n* **Memory Efficiency:** Generators don\\'t store the entire sequence in memory. They produce each value only when requested, making them ideal for handling large datasets that wouldn\\'t fit in memory otherwise.\\n\\n* **Lazy Evaluation:**  Values are generated on demand.  Only when you iterate through the generator (e.g., using a loop) does it compute the next value.  This contrasts with functions that return a list, which compute all values upfront.\\n\\n* **Iteration:** Generators are iterators, meaning you can iterate over them using loops (e.g., `for` loops) or functions like `next()`.\\n\\n* **`yield` Keyword:** The `yield` keyword is what distinguishes a generator function from a regular function.  When a generator encounters `yield`, it pauses execution, returns the yielded value, and remembers its state.  The next time you call `next()` on the generator, it resumes from where it left off.\\n\\n* **Use Cases:** Generators are excellent for tasks like:\\n\\n    * **Processing large files:**  Read and process a file line by line without loading the entire file into memory.\\n    * **Infinite sequences:** Generate an infinite sequence of numbers (e.g., Fibonacci sequence) without running out of memory.\\n    * **Data pipelines:** Chain together multiple processing steps, where each step yields data to the next.\\n    * **Improving performance:** Avoid unnecessary computations by only generating values when needed.\\n\\n\\n**Example (Python):**\\n\\n```python\\ndef my_generator(n):\\n  \"\"\"Generates numbers from 0 up to n.\"\"\"\\n  for i in range(n):\\n    yield i\\n\\n# Create a generator object\\ngen = my_generator(5)\\n\\n# Iterate through the generator\\nfor num in gen:\\n  print(num)  # Output: 0 1 2 3 4\\n\\n# Accessing values individually using next()\\ngen2 = my_generator(3)\\nprint(next(gen2)) # Output: 0\\nprint(next(gen2)) # Output: 1\\nprint(next(gen2)) # Output: 2\\n# print(next(gen2)) # This would raise StopIteration because the generator is exhausted\\n```\\n\\nIn this example, `my_generator` is a generator function.  It doesn\\'t return a list; instead, it yields each number one at a time.  The `for` loop iterates through the generated values efficiently.  The `next()` function demonstrates accessing values individually.  When the generator has produced all its values, calling `next()` raises a `StopIteration` exception.  This signals that the iteration is complete.  This exception is handled automatically by `for` loops.', additional_kwargs={}, response_metadata={'prompt_feedback': {'block_reason': 0, 'safety_ratings': []}, 'finish_reason': 'STOP', 'model_name': 'gemini-1.5-flash', 'safety_ratings': []}, id='run--d69f3fde-34b8-498a-af91-b350a06683e0-0', usage_metadata={'input_tokens': 3, 'output_tokens': 655, 'total_tokens': 658, 'input_token_details': {'cache_read': 0}})"
      ]
     },
     "execution_count": 10,
     "metadata": {},
     "output_type": "execute_result"
    }
   ],
   "source": [
    "model.invoke(\"what is generator in py\")"
   ]
  },
  {
   "cell_type": "code",
   "execution_count": 5,
   "id": "6c7bd07d",
   "metadata": {},
   "outputs": [],
   "source": [
    "def llm(input):\n",
    "    from langchain_google_genai import ChatGoogleGenerativeAI\n",
    "    model=ChatGoogleGenerativeAI(model='gemini-1.5-flash')\n",
    "    output=model.invoke(input)\n",
    "    return output.content"
   ]
  },
  {
   "cell_type": "code",
   "execution_count": 10,
   "id": "8dcd080d",
   "metadata": {},
   "outputs": [],
   "source": [
    "def token_counter(input):\n",
    "    token=input.split()\n",
    "    token_nummber=len(token)\n",
    "    return token_nummber"
   ]
  },
  {
   "cell_type": "code",
   "execution_count": 15,
   "id": "6f6e2ee6",
   "metadata": {},
   "outputs": [],
   "source": [
    "workflow1=Graph()"
   ]
  },
  {
   "cell_type": "code",
   "execution_count": null,
   "id": "acdaa8fe",
   "metadata": {},
   "outputs": [
    {
     "data": {
      "text/plain": [
       "<langgraph.graph.graph.Graph at 0x235169f0b60>"
      ]
     },
     "execution_count": 16,
     "metadata": {},
     "output_type": "execute_result"
    }
   ],
   "source": [
    "workflow1.add_node(\"my_llm\",llm)"
   ]
  },
  {
   "cell_type": "code",
   "execution_count": 17,
   "id": "582370b3",
   "metadata": {},
   "outputs": [
    {
     "data": {
      "text/plain": [
       "<langgraph.graph.graph.Graph at 0x235169f0b60>"
      ]
     },
     "execution_count": 17,
     "metadata": {},
     "output_type": "execute_result"
    }
   ],
   "source": [
    "workflow1.add_node(\"LLM_Output_Token_Counter\",token_counter)"
   ]
  },
  {
   "cell_type": "code",
   "execution_count": 18,
   "id": "0db4247f",
   "metadata": {},
   "outputs": [
    {
     "data": {
      "text/plain": [
       "<langgraph.graph.graph.Graph at 0x235169f0b60>"
      ]
     },
     "execution_count": 18,
     "metadata": {},
     "output_type": "execute_result"
    }
   ],
   "source": [
    "workflow1.add_edge(\"my_llm\",\"LLM_Output_Token_Counter\")"
   ]
  },
  {
   "cell_type": "code",
   "execution_count": 19,
   "id": "2b6d061f",
   "metadata": {},
   "outputs": [
    {
     "data": {
      "text/plain": [
       "<langgraph.graph.graph.Graph at 0x235169f0b60>"
      ]
     },
     "execution_count": 19,
     "metadata": {},
     "output_type": "execute_result"
    }
   ],
   "source": [
    "workflow1.set_entry_point(\"my_llm\")"
   ]
  },
  {
   "cell_type": "code",
   "execution_count": 20,
   "id": "86ef2aa6",
   "metadata": {},
   "outputs": [
    {
     "data": {
      "text/plain": [
       "<langgraph.graph.graph.Graph at 0x235169f0b60>"
      ]
     },
     "execution_count": 20,
     "metadata": {},
     "output_type": "execute_result"
    }
   ],
   "source": [
    "workflow1.set_finish_point(\"LLM_Output_Token_Counter\")"
   ]
  },
  {
   "cell_type": "code",
   "execution_count": 21,
   "id": "839b6d1b",
   "metadata": {},
   "outputs": [],
   "source": [
    "app1=workflow1.compile()"
   ]
  },
  {
   "cell_type": "code",
   "execution_count": 22,
   "id": "91e7ff06",
   "metadata": {},
   "outputs": [
    {
     "data": {
      "image/png": "[encoded data removed]",
      "text/plain": [
       "<IPython.core.display.Image object>"
      ]
     },
     "metadata": {},
     "output_type": "display_data"
    }
   ],
   "source": [
    "from IPython.display import Image, display\n",
    "display(Image(app1.get_graph().draw_mermaid_png()))"
   ]
  },
  {
   "cell_type": "code",
   "execution_count": 23,
   "id": "b662d945",
   "metadata": {},
   "outputs": [
    {
     "data": {
      "text/plain": [
       "72"
      ]
     },
     "execution_count": 23,
     "metadata": {},
     "output_type": "execute_result"
    }
   ],
   "source": [
    "app1.invoke(\"can you tell me about the india's capital?\")"
   ]
  },
  {
   "cell_type": "code",
   "execution_count": 24,
   "id": "b8e8934f",
   "metadata": {},
   "outputs": [
    {
     "name": "stdout",
     "output_type": "stream",
     "text": [
      "here is output from my_llm\n",
      "_______\n",
      "Tata Enterprises, often referred to simply as the Tata Group, is a massive Indian multinational conglomerate headquartered in Mumbai, Maharashtra.  It's not a single entity but a network of over 100 operating companies, encompassing a vast array of industries and operating globally.  Understanding its complexity requires breaking it down into several key aspects:\n",
      "\n",
      "**I. History and Structure:**\n",
      "\n",
      "* **Origins:** Founded by Jamsetji Tata in 1868 with a textile mill, the group's growth has been characterized by a long-term vision, diversification, and a strong emphasis on ethical conduct and social responsibility.\n",
      "* **Structure:** The Tata Group's structure is unique.  It's not a typical holding company. Instead, it's a complex web of independent operating companies, many publicly listed, held together by a shared ethos, common ownership through Tata Sons (the main holding company), and a network of cross-holdings. Tata Sons is a privately held company, and its shareholders include charitable trusts, which control a significant portion and ensure the group's long-term vision is maintained.  This structure allows for a degree of autonomy for individual companies while maintaining overall group cohesion.\n",
      "* **Leadership:**  The group has a strong tradition of leadership, with a succession process that emphasizes merit and long-term planning.  The Chairman of Tata Sons plays a crucial role in overseeing the group's overall strategy.\n",
      "\n",
      "**II. Key Industries and Businesses:**\n",
      "\n",
      "The Tata Group's portfolio is incredibly diverse, including:\n",
      "\n",
      "* **Automotive:** Tata Motors is a major player, known for its passenger vehicles (including Jaguar Land Rover acquisition), commercial vehicles, and Tata Daewoo in South Korea.\n",
      "* **Steel:** Tata Steel is one of the world's largest steel producers, with operations across several countries.\n",
      "* **Information Technology:** Tata Consultancy Services (TCS) and Tata Elxsi are global leaders in IT services and consulting, employing hundreds of thousands worldwide.  Wipro, although often grouped with Tata, is a separate entity.\n",
      "* **Chemicals:** Tata Chemicals produces a wide range of chemical products, including fertilizers and salt.\n",
      "* **Consumer Goods:** Tata Consumer Products includes brands like Tetley Tea, Tata Salt, and other food and beverage products.\n",
      "* **Power:** Tata Power is involved in power generation and distribution.\n",
      "* **Telecommunications:** Tata Teleservices, though significantly restructured, had a past presence in the telecom sector.\n",
      "* **Hospitality:**  The group operates hotels under the Taj Hotels Resorts and Palaces brand, a luxury hospitality chain.\n",
      "* **Aerospace & Defence:**  Tata Advanced Systems is involved in defense manufacturing and related areas.\n",
      "* **Retail:**  Tata operates various retail businesses, including supermarkets and other retail chains.\n",
      "* **Other:**  The group also has significant investments in other sectors like infrastructure, education (Tata Institute of Social Sciences), and healthcare.\n",
      "\n",
      "**III. Global Presence:**\n",
      "\n",
      "The Tata Group is a truly global enterprise, with operations and significant investments in many countries across the world, including the UK, USA, South Korea, Europe, and many others.  This global reach is a key factor in its success.\n",
      "\n",
      "**IV. Philanthropy and Social Responsibility:**\n",
      "\n",
      "A defining characteristic of the Tata Group is its strong commitment to philanthropy and social responsibility.  A significant portion of Tata Sons' ownership is held by charitable trusts, which reinvest profits into various social causes, including education, healthcare, and poverty alleviation. This commitment is deeply ingrained in the group's culture and is a source of its positive reputation.\n",
      "\n",
      "**V. Challenges and Future Outlook:**\n",
      "\n",
      "Despite its success, the Tata Group faces challenges:\n",
      "\n",
      "* **Competition:** Intense competition in various sectors globally.\n",
      "* **Economic fluctuations:**  Vulnerability to economic downturns in different markets.\n",
      "* **Technological disruption:** The need to adapt and innovate to stay ahead in rapidly changing technological landscapes.\n",
      "* **Succession planning:** Maintaining effective leadership and governance as the group evolves.\n",
      "* **Global geopolitical uncertainties:** Navigating complex international political and economic scenarios.\n",
      "\n",
      "The Tata Group's future outlook is tied to its ability to continue innovating, adapting to market changes, maintaining its strong ethical foundation, and effectively managing its diverse portfolio of businesses across a globally competitive environment.  Its long-term vision, strong leadership, and commitment to social responsibility remain key assets in achieving this.\n",
      "\n",
      "\n",
      "here is output from LLM_Output_Token_Counter\n",
      "_______\n",
      "656\n",
      "\n",
      "\n"
     ]
    }
   ],
   "source": [
    "for output in app1.stream(\"tell me about the tata enterpirse in very detail.\"):\n",
    "    for key,value in output.items():\n",
    "        print(f\"here is output from {key}\")\n",
    "        print(\"_______\")\n",
    "        print(value)\n",
    "        print(\"\\n\")"
   ]
  },
  {
   "cell_type": "code",
   "execution_count": null,
   "id": "e9e4991e",
   "metadata": {},
   "outputs": [],
   "source": []
  }
 ],
 "metadata": {
  "kernelspec": {
   "display_name": "Python 3",
   "language": "python",
   "name": "python3"
  },
  "language_info": {
   "codemirror_mode": {
    "name": "ipython",
    "version": 3
   },
   "file_extension": ".py",
   "mimetype": "text/x-python",
   "name": "python",
   "nbconvert_exporter": "python",
   "pygments_lexer": "ipython3",
   "version": "3.12.11"
  }
 },
 "nbformat": 4,
 "nbformat_minor": 5
}
